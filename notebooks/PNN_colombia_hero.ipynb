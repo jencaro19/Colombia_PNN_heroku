{
 "cells": [
  {
   "cell_type": "markdown",
   "metadata": {},
   "source": [
    "# Importing necesary libraries "
   ]
  },
  {
   "cell_type": "code",
   "execution_count": 1,
   "metadata": {},
   "outputs": [],
   "source": [
    "import geemap\n",
    "import ee\n",
    "import os\n",
    "import pandas as pd"
   ]
  },
  {
   "cell_type": "code",
   "execution_count": 2,
   "metadata": {},
   "outputs": [
    {
     "data": {
      "text/html": [
       "<p>To authorize access needed by Earth Engine, open the following\n",
       "        URL in a web browser and follow the instructions:</p>\n",
       "        <p><a href=https://code.earthengine.google.com/client-auth?scopes=https%3A//www.googleapis.com/auth/earthengine%20https%3A//www.googleapis.com/auth/devstorage.full_control&request_id=zTFGhA8_Y4zMJacXFvlzYyEu3c5qWBodyB5gH6Ht-cE&tc=Zk1V9rEOyDcZvHHK0d3PHQ-ilnNDT-JVYmMDl1LAoeI&cc=19D8CzbzrBZw6mLQwU8H9oSaz6HKQSn-m4uHLBhy5yk>https://code.earthengine.google.com/client-auth?scopes=https%3A//www.googleapis.com/auth/earthengine%20https%3A//www.googleapis.com/auth/devstorage.full_control&request_id=zTFGhA8_Y4zMJacXFvlzYyEu3c5qWBodyB5gH6Ht-cE&tc=Zk1V9rEOyDcZvHHK0d3PHQ-ilnNDT-JVYmMDl1LAoeI&cc=19D8CzbzrBZw6mLQwU8H9oSaz6HKQSn-m4uHLBhy5yk</a></p>\n",
       "        <p>The authorization workflow will generate a code, which you\n",
       "        should paste in the box below</p>\n",
       "        "
      ],
      "text/plain": [
       "<IPython.core.display.HTML object>"
      ]
     },
     "metadata": {},
     "output_type": "display_data"
    },
    {
     "name": "stdout",
     "output_type": "stream",
     "text": [
      "\n",
      "Successfully saved authorization token.\n"
     ]
    }
   ],
   "source": [
    "#ee.Initialize()"
   ]
  },
  {
   "cell_type": "markdown",
   "metadata": {},
   "source": [
    "# Download the shapefiles which gives the vector shapes of the Natural Park in Colombia"
   ]
  },
  {
   "cell_type": "code",
   "execution_count": 3,
   "metadata": {},
   "outputs": [],
   "source": [
    "nat_park = geemap.Map()"
   ]
  },
  {
   "cell_type": "code",
   "execution_count": 4,
   "metadata": {},
   "outputs": [],
   "source": [
    "pnn = ee.FeatureCollection('projects/spicedfinalproject/assets/colombia_PNN')\n",
    "los_nevados = pnn.filter(ee.Filter.eq(\"Nombre\", \"LOS NEVADOS\"))"
   ]
  },
  {
   "cell_type": "code",
   "execution_count": 5,
   "metadata": {},
   "outputs": [
    {
     "data": {
      "application/vnd.jupyter.widget-view+json": {
       "model_id": "678da3bb1f8a4b79b1424aaef36f17ae",
       "version_major": 2,
       "version_minor": 0
      },
      "text/plain": [
       "Map(center=[20, 0], controls=(WidgetControl(options=['position', 'transparent_bg'], widget=HBox(children=(Togg…"
      ]
     },
     "metadata": {},
     "output_type": "display_data"
    }
   ],
   "source": [
    "nat_park.addLayer(pnn, {}, 'PNN_Colombia')\n",
    "nat_park.centerObject(pnn)\n",
    "nat_park"
   ]
  },
  {
   "cell_type": "code",
   "execution_count": 6,
   "metadata": {},
   "outputs": [
    {
     "data": {
      "application/vnd.jupyter.widget-view+json": {
       "model_id": "382e0a47e4774762a59c23892355c87a",
       "version_major": 2,
       "version_minor": 0
      },
      "text/plain": [
       "Map(center=[20, 0], controls=(WidgetControl(options=['position', 'transparent_bg'], widget=HBox(children=(Togg…"
      ]
     },
     "metadata": {},
     "output_type": "display_data"
    }
   ],
   "source": [
    "Los_nev_map = geemap.Map()\n",
    "Los_nev_map.addLayer(los_nevados, {}, 'Los Nevados')\n",
    "Los_nev_map.centerObject(los_nevados)\n",
    "Los_nev_map"
   ]
  },
  {
   "cell_type": "code",
   "execution_count": null,
   "metadata": {},
   "outputs": [],
   "source": [
    "# masking clouds\n",
    "def maskcloud1(image):\n",
    "  QA60 = image.select(['QA60'])\n",
    "  return image.updateMask(QA60.lt(1))\n",
    "\n",
    "# obtaining NDVI (vegetation index)\n",
    "def get_ndvi(image):\n",
    "  return image.addBands(image.normalizedDifference([\"B8\",\"B4\"]).rename('NDVI'))\n",
    "\n",
    "# calculating NDMI (moisture index)\n",
    "def get_ndmi(image):\n",
    "  return image.addBands(image.normalizedDifference([\"B8A\",\"B11\"]).rename('NDMI'))\n",
    "\n",
    "#clip the dataset according to the geometry\n",
    "# needs to be into a function since the clip function is only for ee.image and we have a ee.ImageCollection\n",
    "def clip_img_nevados(image):\n",
    "    return image.clip(los_nevados)"
   ]
  },
  {
   "cell_type": "markdown",
   "metadata": {},
   "source": [
    "# Open data catalog from Sentinel 2"
   ]
  },
  {
   "cell_type": "code",
   "execution_count": null,
   "metadata": {},
   "outputs": [],
   "source": [
    "# Sentinel collection\n",
    "Sentinel2 = ee.ImageCollection(\"COPERNICUS/S2_HARMONIZED\")\\\n",
    "    .filterBounds(los_nevados)\\\n",
    "    .filter(ee.Filter.lte('CLOUD_COVERAGE_ASSESSMENT',18))\\\n",
    "    .select('B.*|QA.*')\\\n",
    "    .map(clip_img_nevados)"
   ]
  },
  {
   "cell_type": "code",
   "execution_count": null,
   "metadata": {},
   "outputs": [],
   "source": [
    "#  First image from Sentinel Coll. \n",
    "Sentinel2_img1 = (ee.ImageCollection(\"COPERNICUS/S2_HARMONIZED\")\\\n",
    "    .filterBounds(los_nevados)\\\n",
    "    .filter(ee.Filter.lte('CLOUD_COVERAGE_ASSESSMENT',18))\\\n",
    "    .map(clip_img_nevados)\\\n",
    "    .select('B.*|QA.*')\n",
    "    .first())"
   ]
  },
  {
   "cell_type": "markdown",
   "metadata": {},
   "source": [
    "## Visualization parameter"
   ]
  },
  {
   "cell_type": "code",
   "execution_count": null,
   "metadata": {},
   "outputs": [],
   "source": [
    "# Vegetation Index\n",
    "Vispara_ndvi = {'bands':'NDVI',\n",
    "                    'min': -1, \n",
    "                    'max': 1,\n",
    "                    'palette': ['FFFFFF', 'CE7E45', 'DF923D', 'F1B555', \n",
    "                        'FCD163', '99B718', '74A901', '66A000', '529400',\n",
    "                        '3E8601', '207401', '056201', '004C00', '023B01', \n",
    "                        '012E01', '011D01', '011301']}\n",
    "      \n"
   ]
  },
  {
   "cell_type": "code",
   "execution_count": null,
   "metadata": {},
   "outputs": [],
   "source": [
    "# Moisture Index\n",
    "Vispara_ndmi = {'bands':'NDMI',\n",
    "                    'min': -1, \n",
    "                    'max': 1, \n",
    "                    'palette': ['040274', '040281', '0502a3', '0502b8', '0502ce', '0502e6',\n",
    "                        '0602ff', '235cb1', '307ef3', '269db1', '30c8e2', '32d3ef',\n",
    "                        '3be285', '3ff38f', '86e26f', '3ae237', 'b5e22e', 'd6e21f',\n",
    "                        'fff705', 'ffd611', 'ffb613', 'ff8b13', 'ff6e08', 'ff500d',\n",
    "                        'ff0000', 'de0101', 'c21301', 'a71001', '911003']}"
   ]
  },
  {
   "cell_type": "code",
   "execution_count": null,
   "metadata": {},
   "outputs": [],
   "source": [
    "# Precipiation parameters\n",
    "Vispara_rain = {\n",
    "  'min': 0.0,\n",
    "  'max': 30.0,\n",
    "  'palette': ['1621a2', 'ffffff', '03ffff', '13ff03', 'efff00', 'ffb103', 'ff2300']}"
   ]
  },
  {
   "cell_type": "code",
   "execution_count": null,
   "metadata": {},
   "outputs": [],
   "source": [
    "# Natural Color\n",
    "nat_color = {'bands': [\"B4\",\"B3\",\"B2\"],\n",
    "  'gamma': 1.8330000000000002,\n",
    "  'max': 7270,\n",
    "  'min': 286,\n",
    "  'opacity': 0.99}"
   ]
  },
  {
   "cell_type": "code",
   "execution_count": null,
   "metadata": {},
   "outputs": [],
   "source": [
    "# Infrared\n",
    "infrared = {'bands': [\"B8\",\"B4\",\"B3\"],\n",
    "  'gamma': 1.6,\n",
    "  'max': 2233.302942508474,\n",
    "  'min': 364.9824640612618,\n",
    "  'opacity': 0.99}"
   ]
  },
  {
   "cell_type": "code",
   "execution_count": null,
   "metadata": {},
   "outputs": [],
   "source": [
    "# Short wave\n",
    "short_wave = {'bands': [\"B12\",\"B8A\",\"B4\"], #1st sigmoid\n",
    "  'gamma': 2.098,\n",
    "  'max': 2135.7597918822803,\n",
    "  'min': 675.9357833389589,\n",
    "  'opacity': 1}"
   ]
  },
  {
   "cell_type": "code",
   "execution_count": null,
   "metadata": {},
   "outputs": [],
   "source": [
    "# Vegetation\n",
    "vegetation = {'bands': [\"B11\",\"B8\",\"B2\"], #90% stretch\n",
    "  'gamma': 1.8330000000000002,\n",
    "  'max': 5948.1,\n",
    "  'min': 932.9000000000001,\n",
    "  'opacity': 1}"
   ]
  },
  {
   "cell_type": "markdown",
   "metadata": {},
   "source": [
    "## add layers to map"
   ]
  },
  {
   "cell_type": "code",
   "execution_count": null,
   "metadata": {},
   "outputs": [],
   "source": [
    "map = geemap.Map()\n",
    "map.add_basemap('OpenStreetMap')\n",
    "map"
   ]
  },
  {
   "cell_type": "code",
   "execution_count": null,
   "metadata": {},
   "outputs": [],
   "source": [
    "# add sentinel collection\n",
    "map.addLayer(Sentinel2, nat_color, 'Natural Color')\n",
    "# add Natural Parl\n",
    "map.centerObject(los_nevados)\n",
    "map.addLayer(los_nevados, {}, 'Los Nevados')"
   ]
  },
  {
   "cell_type": "markdown",
   "metadata": {},
   "source": [
    "### Checking image properties"
   ]
  },
  {
   "cell_type": "code",
   "execution_count": null,
   "metadata": {},
   "outputs": [],
   "source": [
    "props = geemap.image_props(Sentinel2_img1)\n",
    "props.getInfo()"
   ]
  },
  {
   "cell_type": "code",
   "execution_count": null,
   "metadata": {},
   "outputs": [],
   "source": [
    "props.get('IMAGE_DATE').getInfo()"
   ]
  },
  {
   "cell_type": "code",
   "execution_count": null,
   "metadata": {},
   "outputs": [],
   "source": [
    "props.get('system:time_start').getInfo()"
   ]
  },
  {
   "cell_type": "code",
   "execution_count": null,
   "metadata": {},
   "outputs": [],
   "source": [
    "props.get('CLOUD_COVERAGE_ASSESSMENT').getInfo()"
   ]
  },
  {
   "cell_type": "markdown",
   "metadata": {},
   "source": [
    "# Unsupervised Classification "
   ]
  },
  {
   "cell_type": "code",
   "execution_count": null,
   "metadata": {},
   "outputs": [],
   "source": [
    "# make training data\n",
    "training = Sentinel2_img1.sample(\n",
    "    **{\n",
    "        'region': los_nevados,\n",
    "        'scale': 100,\n",
    "        'numPixels': 1500,\n",
    "        'seed': 0,\n",
    "        'geometries': True,  # Set this to False to ignore geometries\n",
    "    }\n",
    ")"
   ]
  },
  {
   "cell_type": "code",
   "execution_count": null,
   "metadata": {},
   "outputs": [],
   "source": [
    "map.addLayer(training, {}, 'training', False)\n",
    "map"
   ]
  },
  {
   "cell_type": "markdown",
   "metadata": {},
   "source": [
    "# ee.Clusterer.wekaKMeans \n",
    "Cluster data using the k means algorithm. Can use either the Euclidean distance (default) or the Manhattan distance. If the Manhattan distance is used, then centroids are computed as the component-wise median rather than mean.\n",
    "\n",
    "Link: https://developers.google.com/earth-engine/apidocs/ee-clusterer-wekakmeans"
   ]
  },
  {
   "cell_type": "code",
   "execution_count": null,
   "metadata": {},
   "outputs": [],
   "source": [
    "# train the clusters with the ee.Cluster.wekaKMeans\n",
    "# establish number of clusters\n",
    "\n",
    "n_clusters = 10\n",
    "wekaKMeans = ee.Clusterer.wekaKMeans(n_clusters).train(training)\n",
    "wekaKMeans"
   ]
  },
  {
   "cell_type": "code",
   "execution_count": null,
   "metadata": {},
   "outputs": [],
   "source": [
    "# apply model to Single Sentinel image\n",
    "unsupervised = Sentinel2_img1.cluster(wekaKMeans) #apply the model to Sentinel image \n",
    "unsupervised"
   ]
  },
  {
   "cell_type": "code",
   "execution_count": null,
   "metadata": {},
   "outputs": [],
   "source": [
    "# add layer to map\n",
    "map.addLayer(unsupervised.randomVisualizer(), {}, 'Clusters')"
   ]
  },
  {
   "cell_type": "code",
   "execution_count": null,
   "metadata": {},
   "outputs": [],
   "source": []
  }
 ],
 "metadata": {
  "interpreter": {
   "hash": "ad2bdc8ecc057115af97d19610ffacc2b4e99fae6737bb82f5d7fb13d2f2c186"
  },
  "kernelspec": {
   "display_name": "Python 3.9.7 ('base')",
   "language": "python",
   "name": "python3"
  },
  "language_info": {
   "codemirror_mode": {
    "name": "ipython",
    "version": 3
   },
   "file_extension": ".py",
   "mimetype": "text/x-python",
   "name": "python",
   "nbconvert_exporter": "python",
   "pygments_lexer": "ipython3",
   "version": "3.9.7"
  },
  "orig_nbformat": 4
 },
 "nbformat": 4,
 "nbformat_minor": 2
}
